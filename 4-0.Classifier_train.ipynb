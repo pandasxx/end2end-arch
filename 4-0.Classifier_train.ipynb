{
 "cells": [
  {
   "cell_type": "markdown",
   "metadata": {},
   "source": [
    "## End to end model:Classifier"
   ]
  },
  {
   "cell_type": "code",
   "execution_count": 1,
   "metadata": {},
   "outputs": [
    {
     "name": "stderr",
     "output_type": "stream",
     "text": [
      "Using TensorFlow backend.\n"
     ]
    }
   ],
   "source": [
    "from keras.models import *\n",
    "from keras.layers import *\n",
    "from keras.applications import *\n",
    "from keras.preprocessing.image import *\n",
    "from keras import optimizers\n",
    "from keras.applications.vgg19 import preprocess_input\n",
    "from keras.utils.training_utils import multi_gpu_model\n",
    "from keras.utils import to_categorical\n",
    "import tensorflow as tf\n",
    "import cv2\n",
    "import os\n",
    "import random\n",
    "import h5py\n",
    "import numpy as np"
   ]
  },
  {
   "cell_type": "markdown",
   "metadata": {},
   "source": [
    "## 1 read feature and label"
   ]
  },
  {
   "cell_type": "code",
   "execution_count": 2,
   "metadata": {},
   "outputs": [
    {
     "name": "stdout",
     "output_type": "stream",
     "text": [
      "du ### 0\n",
      "du (500, 128, 128, 512)\n",
      "du (500,)\n",
      "du (500, 128, 128, 512)\n",
      "du (500,)\n",
      "du *** 1\n",
      "du (500, 128, 128, 512)\n",
      "du (500,)\n",
      "du (491, 128, 128, 512)\n",
      "du (491,)\n",
      "du *** 2\n",
      "du (991, 128, 128, 512)\n",
      "du (991,)\n",
      "du (500, 128, 128, 512)\n",
      "du (500,)\n",
      "du *** 3\n",
      "du (1491, 128, 128, 512)\n",
      "du (1491,)\n",
      "du (500, 128, 128, 512)\n",
      "du (500,)\n",
      "du (1991, 128, 128, 512)\n",
      "du (1991,)\n"
     ]
    }
   ],
   "source": [
    "h5_files = ['/home/tsimage/high_speed_data/end2end_feature/feature_label_500.h5',\n",
    "            '/home/tsimage/high_speed_data/end2end_feature/feature_label_1000.h5',\n",
    "            '/home/tsimage/high_speed_data/end2end_feature/feature_label_1500.h5',\n",
    "            '/home/tsimage/high_speed_data/end2end_feature/feature_label_2000.h5']\n",
    "\n",
    "for i, h5_file in enumerate(h5_files):\n",
    "    h5f = h5py.File(h5_file,'r')\n",
    "    features_h5 = h5f['features'][:]\n",
    "    labels_h5 = h5f['labels'][:]\n",
    "    h5f.close()\n",
    "    if (i == 0):\n",
    "        print(\"du ###\",i)\n",
    "        features_h5_all = features_h5\n",
    "        labels_h5_all = labels_h5\n",
    "        print(\"du\", features_h5_all.shape)\n",
    "        print(\"du\", labels_h5_all.shape)\n",
    "        print(\"du\", features_h5.shape)\n",
    "        print(\"du\", labels_h5.shape)\n",
    "        features_h5 = None\n",
    "        labels_h5 = None\n",
    "    else:\n",
    "        print(\"du ***\",i)\n",
    "        print(\"du\", features_h5_all.shape)\n",
    "        print(\"du\", labels_h5_all.shape)\n",
    "        print(\"du\", features_h5.shape)\n",
    "        print(\"du\", labels_h5.shape)\n",
    "        features_h5_all = np.append(features_h5_all, features_h5, axis = 0)\n",
    "        labels_h5_all = np.append(labels_h5_all, labels_h5,  axis = 0)\n",
    "        features_h5 = None\n",
    "        labels_h5 = None\n",
    "        \n",
    "print(\"du\", features_h5_all.shape)\n",
    "print(\"du\", labels_h5_all.shape)"
   ]
  },
  {
   "cell_type": "code",
   "execution_count": 3,
   "metadata": {},
   "outputs": [
    {
     "name": "stdout",
     "output_type": "stream",
     "text": [
      "du (1991, 128, 128, 512)\n",
      "du (1991, 1)\n",
      "du (1991, 128, 128, 512)\n",
      "du (1991, 2)\n",
      "du (1991, 128, 128, 512)\n",
      "du (1991, 2)\n"
     ]
    }
   ],
   "source": [
    "features = features_h5_all\n",
    "labels = labels_h5_all.reshape([len(labels_h5_all),1])\n",
    "features_h5_all = None\n",
    "labels_h5_all = None\n",
    "\n",
    "print(\"du\", features.shape)\n",
    "print(\"du\", labels.shape)\n",
    "\n",
    "labels = to_categorical(labels,2)\n",
    "print(\"du\", features.shape)\n",
    "print(\"du\", labels.shape)\n",
    "\n",
    "index = [i for i in range(len(features))]  \n",
    "random.shuffle(index)\n",
    "features = features[index]\n",
    "labels = labels[index]\n",
    "\n",
    "print(\"du\", features.shape)\n",
    "print(\"du\", labels.shape)"
   ]
  },
  {
   "cell_type": "markdown",
   "metadata": {},
   "source": [
    "## 2 build classifier"
   ]
  },
  {
   "cell_type": "code",
   "execution_count": 4,
   "metadata": {},
   "outputs": [
    {
     "name": "stdout",
     "output_type": "stream",
     "text": [
      "_________________________________________________________________\n",
      "Layer (type)                 Output Shape              Param #   \n",
      "=================================================================\n",
      "input_1 (InputLayer)         (None, 128, 128, 512)     0         \n",
      "_________________________________________________________________\n",
      "conv1 (Conv2D)               (None, 64, 64, 1024)      4719616   \n",
      "_________________________________________________________________\n",
      "conv2 (Conv2D)               (None, 64, 64, 512)       524800    \n",
      "_________________________________________________________________\n",
      "conv3 (Conv2D)               (None, 32, 32, 1024)      4719616   \n",
      "_________________________________________________________________\n",
      "conv4 (Conv2D)               (None, 32, 32, 512)       524800    \n",
      "_________________________________________________________________\n",
      "conv5 (Conv2D)               (None, 16, 16, 1024)      4719616   \n",
      "_________________________________________________________________\n",
      "conv6 (Conv2D)               (None, 16, 16, 512)       524800    \n",
      "_________________________________________________________________\n",
      "conv7 (Conv2D)               (None, 8, 8, 1024)        4719616   \n",
      "_________________________________________________________________\n",
      "conv8 (Conv2D)               (None, 8, 8, 512)         524800    \n",
      "_________________________________________________________________\n",
      "global_max_pooling2d_1 (Glob (None, 512)               0         \n",
      "_________________________________________________________________\n",
      "drop_fc1 (Dropout)           (None, 512)               0         \n",
      "_________________________________________________________________\n",
      "dense_1 (Dense)              (None, 2)                 1026      \n",
      "=================================================================\n",
      "Total params: 20,978,690\n",
      "Trainable params: 20,978,690\n",
      "Non-trainable params: 0\n",
      "_________________________________________________________________\n",
      "__________________________________________________________________________________________________\n",
      "Layer (type)                    Output Shape         Param #     Connected to                     \n",
      "==================================================================================================\n",
      "input_1 (InputLayer)            (None, 128, 128, 512 0                                            \n",
      "__________________________________________________________________________________________________\n",
      "lambda_1 (Lambda)               (None, 128, 128, 512 0           input_1[0][0]                    \n",
      "__________________________________________________________________________________________________\n",
      "lambda_2 (Lambda)               (None, 128, 128, 512 0           input_1[0][0]                    \n",
      "__________________________________________________________________________________________________\n",
      "lambda_3 (Lambda)               (None, 128, 128, 512 0           input_1[0][0]                    \n",
      "__________________________________________________________________________________________________\n",
      "lambda_4 (Lambda)               (None, 128, 128, 512 0           input_1[0][0]                    \n",
      "__________________________________________________________________________________________________\n",
      "model_1 (Model)                 (None, 2)            20978690    lambda_1[0][0]                   \n",
      "                                                                 lambda_2[0][0]                   \n",
      "                                                                 lambda_3[0][0]                   \n",
      "                                                                 lambda_4[0][0]                   \n",
      "__________________________________________________________________________________________________\n",
      "dense_1 (Concatenate)           (None, 2)            0           model_1[1][0]                    \n",
      "                                                                 model_1[2][0]                    \n",
      "                                                                 model_1[3][0]                    \n",
      "                                                                 model_1[4][0]                    \n",
      "==================================================================================================\n",
      "Total params: 20,978,690\n",
      "Trainable params: 20,978,690\n",
      "Non-trainable params: 0\n",
      "__________________________________________________________________________________________________\n"
     ]
    }
   ],
   "source": [
    "with tf.device('/cpu:0'):\n",
    "    input_tensor = Input((128, 128, 512))\n",
    "    \n",
    "    conv1 = Conv2D(filters = 1024, kernel_size = (3, 3), strides = (2, 2),\n",
    "                   activation='relu', padding='same', name='conv1')(input_tensor)\n",
    "    conv2 = Conv2D(filters = 512, kernel_size = (1, 1), strides = (1, 1),\n",
    "                   activation='relu', padding='same', name='conv2')(conv1)\n",
    "    \n",
    "    conv3 = Conv2D(filters = 1024, kernel_size = (3, 3), strides = (2, 2),\n",
    "                   activation='relu', padding='same', name='conv3')(conv2)\n",
    "    conv4 = Conv2D(filters = 512, kernel_size = (1, 1), strides = (1, 1),\n",
    "                   activation='relu', padding='same', name='conv4')(conv3)\n",
    "    \n",
    "    conv5 = Conv2D(filters = 1024, kernel_size = (3, 3), strides = (2, 2),\n",
    "                   activation='relu', padding='same', name='conv5')(conv4)\n",
    "    conv6 = Conv2D(filters = 512, kernel_size = (1, 1), strides = (1, 1),\n",
    "                   activation='relu', padding='same', name='conv6')(conv5)\n",
    "    \n",
    "    conv7 = Conv2D(filters = 1024, kernel_size = (3, 3), strides = (2, 2),\n",
    "                   activation='relu', padding='same', name='conv7')(conv6)\n",
    "    conv8 = Conv2D(filters = 512, kernel_size = (1, 1), strides = (1, 1),\n",
    "                   activation='relu', padding='same', name='conv8')(conv7)\n",
    "\n",
    "#    flatten = Flatten(name='flatten')(conv8)\n",
    "#    fc1 = Dense(1024, activation='relu', name='fc1')(flatten)\n",
    "#    gap = GlobalAveragePooling2D()(conv8)\n",
    "    gmp = GlobalMaxPooling2D()(conv8)\n",
    "    drop = Dropout(0.5, name='drop_fc1')(gmp)\n",
    "    predictions = Dense(2, activation='softmax')(drop)\n",
    "\n",
    "    model = Model(inputs=input_tensor, outputs=predictions)\n",
    "    model.summary()\n",
    "\n",
    "    sgd = optimizers.SGD(lr=0.001, decay=1e-6, momentum=0.9, nesterov=True)\n",
    "\n",
    "parallel_model = multi_gpu_model(model, gpus=4)\n",
    "#parallel_model.compile(optimizer='Adadelta', \n",
    "#                       loss='categorical_crossentropy', \n",
    "#                       metrics=['accuracy'])\n",
    "parallel_model.compile(optimizer=sgd, loss='categorical_crossentropy', metrics=['accuracy'])\n",
    "parallel_model.summary()"
   ]
  },
  {
   "cell_type": "code",
   "execution_count": 6,
   "metadata": {},
   "outputs": [
    {
     "name": "stdout",
     "output_type": "stream",
     "text": [
      "du (1991, 128, 128, 512)\n",
      "du (1991, 2)\n",
      "Train on 1592 samples, validate on 399 samples\n",
      "Epoch 1/1\n",
      "1592/1592 [==============================] - 86s 54ms/step - loss: 0.0622 - acc: 0.9793 - val_loss: 0.5109 - val_acc: 0.8672\n"
     ]
    }
   ],
   "source": [
    "print(\"du\", features.shape)\n",
    "print(\"du\", labels.shape)\n",
    "parallel_model.fit(x=features, y=labels, \n",
    "                   batch_size=16, epochs=1, verbose=1, validation_split=0.2)\n",
    "model.save_weights(\"diagnosis.h5\")"
   ]
  },
  {
   "cell_type": "markdown",
   "metadata": {
    "collapsed": true
   },
   "source": []
  },
  {
   "cell_type": "code",
   "execution_count": null,
   "metadata": {
    "collapsed": true
   },
   "outputs": [],
   "source": []
  },
  {
   "cell_type": "code",
   "execution_count": null,
   "metadata": {
    "collapsed": true
   },
   "outputs": [],
   "source": []
  },
  {
   "cell_type": "code",
   "execution_count": null,
   "metadata": {
    "collapsed": true
   },
   "outputs": [],
   "source": []
  }
 ],
 "metadata": {
  "kernelspec": {
   "display_name": "Python 3",
   "language": "python",
   "name": "python3"
  },
  "language_info": {
   "codemirror_mode": {
    "name": "ipython",
    "version": 3
   },
   "file_extension": ".py",
   "mimetype": "text/x-python",
   "name": "python",
   "nbconvert_exporter": "python",
   "pygments_lexer": "ipython3",
   "version": "3.5.4"
  }
 },
 "nbformat": 4,
 "nbformat_minor": 2
}
