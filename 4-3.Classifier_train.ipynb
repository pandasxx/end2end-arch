{
 "cells": [
  {
   "cell_type": "markdown",
   "metadata": {},
   "source": [
    "## End to end model:Classifier"
   ]
  },
  {
   "cell_type": "code",
   "execution_count": 1,
   "metadata": {},
   "outputs": [
    {
     "name": "stderr",
     "output_type": "stream",
     "text": [
      "Using TensorFlow backend.\n"
     ]
    }
   ],
   "source": [
    "from keras.models import *\n",
    "from keras.layers import *\n",
    "from keras.applications import *\n",
    "from keras.preprocessing.image import *\n",
    "from keras import optimizers\n",
    "from keras.applications.vgg19 import preprocess_input\n",
    "from keras.utils.training_utils import multi_gpu_model\n",
    "from keras.utils import to_categorical\n",
    "import tensorflow as tf\n",
    "import cv2\n",
    "import os\n",
    "import random\n",
    "import h5py\n",
    "import numpy as np"
   ]
  },
  {
   "cell_type": "markdown",
   "metadata": {},
   "source": [
    "## 1 read feature and label"
   ]
  },
  {
   "cell_type": "code",
   "execution_count": 2,
   "metadata": {},
   "outputs": [
    {
     "name": "stdout",
     "output_type": "stream",
     "text": [
      "du ### 0\n",
      "du (500, 128, 128, 512)\n",
      "du (500,)\n",
      "du (500, 128, 128, 512)\n",
      "du (500,)\n",
      "du *** 1\n",
      "du (500, 128, 128, 512)\n",
      "du (500,)\n",
      "du (491, 128, 128, 512)\n",
      "du (491,)\n",
      "du *** 2\n",
      "du (991, 128, 128, 512)\n",
      "du (991,)\n",
      "du (500, 128, 128, 512)\n",
      "du (500,)\n",
      "du *** 3\n",
      "du (1491, 128, 128, 512)\n",
      "du (1491,)\n",
      "du (500, 128, 128, 512)\n",
      "du (500,)\n",
      "du (1991, 128, 128, 512)\n",
      "du (1991,)\n"
     ]
    }
   ],
   "source": [
    "h5_files = ['/home/tsimage/high_speed_data/end2end_feature/feature_label_500.h5',\n",
    "            '/home/tsimage/high_speed_data/end2end_feature/feature_label_1000.h5',\n",
    "            '/home/tsimage/high_speed_data/end2end_feature/feature_label_1500.h5',\n",
    "            '/home/tsimage/high_speed_data/end2end_feature/feature_label_2000.h5']\n",
    "\n",
    "for i, h5_file in enumerate(h5_files):\n",
    "    h5f = h5py.File(h5_file,'r')\n",
    "    features_h5 = h5f['features'][:]\n",
    "    labels_h5 = h5f['labels'][:]\n",
    "    h5f.close()\n",
    "    if (i == 0):\n",
    "        print(\"du ###\",i)\n",
    "        features_h5_all = features_h5\n",
    "        labels_h5_all = labels_h5\n",
    "        print(\"du\", features_h5_all.shape)\n",
    "        print(\"du\", labels_h5_all.shape)\n",
    "        print(\"du\", features_h5.shape)\n",
    "        print(\"du\", labels_h5.shape)\n",
    "        features_h5 = None\n",
    "        labels_h5 = None\n",
    "    else:\n",
    "        print(\"du ***\",i)\n",
    "        print(\"du\", features_h5_all.shape)\n",
    "        print(\"du\", labels_h5_all.shape)\n",
    "        print(\"du\", features_h5.shape)\n",
    "        print(\"du\", labels_h5.shape)\n",
    "        features_h5_all = np.append(features_h5_all, features_h5, axis = 0)\n",
    "        labels_h5_all = np.append(labels_h5_all, labels_h5,  axis = 0)\n",
    "        features_h5 = None\n",
    "        labels_h5 = None\n",
    "        \n",
    "print(\"du\", features_h5_all.shape)\n",
    "print(\"du\", labels_h5_all.shape)"
   ]
  },
  {
   "cell_type": "code",
   "execution_count": 3,
   "metadata": {},
   "outputs": [
    {
     "name": "stdout",
     "output_type": "stream",
     "text": [
      "du (1991, 128, 128, 512)\n",
      "du (1991, 1)\n",
      "du (1991, 128, 128, 512)\n",
      "du (1991, 2)\n",
      "du (1991, 128, 128, 512)\n",
      "du (1991, 2)\n"
     ]
    }
   ],
   "source": [
    "features = features_h5_all\n",
    "labels = labels_h5_all.reshape([len(labels_h5_all),1])\n",
    "features_h5_all = None\n",
    "labels_h5_all = None\n",
    "\n",
    "print(\"du\", features.shape)\n",
    "print(\"du\", labels.shape)\n",
    "\n",
    "labels = to_categorical(labels,2)\n",
    "print(\"du\", features.shape)\n",
    "print(\"du\", labels.shape)\n",
    "\n",
    "index = [i for i in range(len(features))]  \n",
    "random.shuffle(index)\n",
    "features = features[index]\n",
    "labels = labels[index]\n",
    "\n",
    "print(\"du\", features.shape)\n",
    "print(\"du\", labels.shape)"
   ]
  },
  {
   "cell_type": "markdown",
   "metadata": {},
   "source": [
    "## 2 build classifier"
   ]
  },
  {
   "cell_type": "code",
   "execution_count": null,
   "metadata": {},
   "outputs": [
    {
     "name": "stdout",
     "output_type": "stream",
     "text": [
      "_________________________________________________________________\n",
      "Layer (type)                 Output Shape              Param #   \n",
      "=================================================================\n",
      "input_1 (InputLayer)         (None, 128, 128, 512)     0         \n",
      "_________________________________________________________________\n",
      "conv1_1 (Conv2D)             (None, 128, 128, 1024)    4719616   \n",
      "_________________________________________________________________\n",
      "conv1_2 (Conv2D)             (None, 128, 128, 1024)    1049600   \n",
      "_________________________________________________________________\n",
      "max_pooling2d_1 (MaxPooling2 (None, 64, 64, 1024)      0         \n",
      "_________________________________________________________________\n",
      "conv2_1 (Conv2D)             (None, 64, 64, 2048)      18876416  \n",
      "_________________________________________________________________\n",
      "conv2_2 (Conv2D)             (None, 64, 64, 2048)      4196352   \n",
      "_________________________________________________________________\n",
      "max_pooling2d_2 (MaxPooling2 (None, 32, 32, 2048)      0         \n",
      "_________________________________________________________________\n",
      "conv3_1 (Conv2D)             (None, 32, 32, 4096)      75501568  \n",
      "_________________________________________________________________\n",
      "conv3_2 (Conv2D)             (None, 32, 32, 2048)      8390656   \n",
      "_________________________________________________________________\n",
      "max_pooling2d_3 (MaxPooling2 (None, 16, 16, 2048)      0         \n",
      "_________________________________________________________________\n",
      "conv4_1 (Conv2D)             (None, 16, 16, 4096)      75501568  \n",
      "_________________________________________________________________\n",
      "conv4_2 (Conv2D)             (None, 16, 16, 2048)      8390656   \n",
      "_________________________________________________________________\n",
      "max_pooling2d_4 (MaxPooling2 (None, 8, 8, 2048)        0         \n",
      "_________________________________________________________________\n",
      "conv5_1 (Conv2D)             (None, 8, 8, 4096)        75501568  \n",
      "_________________________________________________________________\n",
      "conv5_2 (Conv2D)             (None, 8, 8, 2048)        8390656   \n",
      "_________________________________________________________________\n",
      "global_max_pooling2d_1 (Glob (None, 2048)              0         \n",
      "_________________________________________________________________\n",
      "drop_fc1 (Dropout)           (None, 2048)              0         \n",
      "_________________________________________________________________\n",
      "dense_1 (Dense)              (None, 2)                 4098      \n",
      "=================================================================\n",
      "Total params: 280,522,754\n",
      "Trainable params: 280,522,754\n",
      "Non-trainable params: 0\n",
      "_________________________________________________________________\n",
      "__________________________________________________________________________________________________\n",
      "Layer (type)                    Output Shape         Param #     Connected to                     \n",
      "==================================================================================================\n",
      "input_1 (InputLayer)            (None, 128, 128, 512 0                                            \n",
      "__________________________________________________________________________________________________\n",
      "lambda_1 (Lambda)               (None, 128, 128, 512 0           input_1[0][0]                    \n",
      "__________________________________________________________________________________________________\n",
      "lambda_2 (Lambda)               (None, 128, 128, 512 0           input_1[0][0]                    \n",
      "__________________________________________________________________________________________________\n",
      "lambda_3 (Lambda)               (None, 128, 128, 512 0           input_1[0][0]                    \n",
      "__________________________________________________________________________________________________\n",
      "lambda_4 (Lambda)               (None, 128, 128, 512 0           input_1[0][0]                    \n",
      "__________________________________________________________________________________________________\n",
      "model_1 (Model)                 (None, 2)            280522754   lambda_1[0][0]                   \n",
      "                                                                 lambda_2[0][0]                   \n",
      "                                                                 lambda_3[0][0]                   \n",
      "                                                                 lambda_4[0][0]                   \n",
      "__________________________________________________________________________________________________\n",
      "dense_1 (Concatenate)           (None, 2)            0           model_1[1][0]                    \n",
      "                                                                 model_1[2][0]                    \n",
      "                                                                 model_1[3][0]                    \n",
      "                                                                 model_1[4][0]                    \n",
      "==================================================================================================\n",
      "Total params: 280,522,754\n",
      "Trainable params: 280,522,754\n",
      "Non-trainable params: 0\n",
      "__________________________________________________________________________________________________\n"
     ]
    }
   ],
   "source": [
    "with tf.device('/cpu:0'):\n",
    "    input_tensor = Input((128, 128, 512))\n",
    "    \n",
    "    conv1_1 = Conv2D(filters = 1024, kernel_size = (3, 3), strides = (1, 1),\n",
    "                   activation='relu', padding='same', name='conv1_1')(input_tensor)\n",
    "    conv1_2 = Conv2D(filters = 1024, kernel_size = (1, 1), strides = (1, 1),\n",
    "                   activation='relu', padding='same', name='conv1_2')(conv1_1)\n",
    "    conv1_3 = Conv2D(filters = 1024, kernel_size = (3, 3), strides = (1, 1),\n",
    "                   activation='relu', padding='same', name='conv1_3')(conv1_2)\n",
    "    conv1_4 = Conv2D(filters = 1024, kernel_size = (1, 1), strides = (1, 1),\n",
    "                   activation='relu', padding='same', name='conv1_4')(conv1_3)\n",
    "    mp1 = MaxPooling2D(pool_size=(2, 2), strides=2, padding='same')(conv1_4)\n",
    "    \n",
    "    conv2_1 = Conv2D(filters = 2048, kernel_size = (3, 3), strides = (1, 1),\n",
    "                   activation='relu', padding='same', name='conv2_1')(mp1)\n",
    "    conv2_2 = Conv2D(filters = 2048, kernel_size = (1, 1), strides = (1, 1),\n",
    "                   activation='relu', padding='same', name='conv2_2')(conv2_1)\n",
    "    conv2_3 = Conv2D(filters = 2048, kernel_size = (3, 3), strides = (1, 1),\n",
    "                   activation='relu', padding='same', name='conv2_3')(conv2_2)\n",
    "    conv2_4 = Conv2D(filters = 2048, kernel_size = (1, 1), strides = (1, 1),\n",
    "                   activation='relu', padding='same', name='conv2_4')(conv2_3)\n",
    "    mp2 = MaxPooling2D(pool_size=(2, 2), strides=2, padding='same')(conv2_4)\n",
    "    \n",
    "    conv3_1 = Conv2D(filters = 4096, kernel_size = (3, 3), strides = (1, 1),\n",
    "                   activation='relu', padding='same', name='conv3_1')(mp2)\n",
    "    conv3_2 = Conv2D(filters = 2048, kernel_size = (1, 1), strides = (1, 1),\n",
    "                   activation='relu', padding='same', name='conv3_2')(conv3_1)\n",
    "    conv3_3 = Conv2D(filters = 4096, kernel_size = (3, 3), strides = (1, 1),\n",
    "                   activation='relu', padding='same', name='conv3_3')(conv3_2)\n",
    "    conv3_4 = Conv2D(filters = 2048, kernel_size = (1, 1), strides = (1, 1),\n",
    "                   activation='relu', padding='same', name='conv3_4')(conv3_3)\n",
    "    mp3 = MaxPooling2D(pool_size=(2, 2), strides=2, padding='same')(conv3_4)\n",
    "    \n",
    "    conv4_1 = Conv2D(filters = 4096, kernel_size = (3, 3), strides = (1, 1),\n",
    "                   activation='relu', padding='same', name='conv4_1')(mp3)\n",
    "    conv4_2 = Conv2D(filters = 2048, kernel_size = (1, 1), strides = (1, 1),\n",
    "                   activation='relu', padding='same', name='conv4_2')(conv4_1)\n",
    "    conv4_3 = Conv2D(filters = 4096, kernel_size = (3, 3), strides = (1, 1),\n",
    "                   activation='relu', padding='same', name='conv4_3')(conv4_2)\n",
    "    conv4_4 = Conv2D(filters = 2048, kernel_size = (1, 1), strides = (1, 1),\n",
    "                   activation='relu', padding='same', name='conv4_4')(conv4_3)\n",
    "    mp4 = MaxPooling2D(pool_size=(2, 2), strides=2, padding='same')(conv4_4)\n",
    "    \n",
    "    conv5_1 = Conv2D(filters = 4096, kernel_size = (3, 3), strides = (1, 1),\n",
    "                   activation='relu', padding='same', name='conv5_1')(mp4)\n",
    "    conv5_2 = Conv2D(filters = 2048, kernel_size = (1, 1), strides = (1, 1),\n",
    "                   activation='relu', padding='same', name='conv5_2')(conv5_1)\n",
    "    conv5_3 = Conv2D(filters = 4096, kernel_size = (3, 3), strides = (1, 1),\n",
    "                   activation='relu', padding='same', name='conv5_3')(conv5_2)\n",
    "    conv5_4 = Conv2D(filters = 2048, kernel_size = (1, 1), strides = (1, 1),\n",
    "                   activation='relu', padding='same', name='conv5_4')(conv5_3)\n",
    "    \n",
    "#    flatten = Flatten(name='flatten')(conv8)\n",
    "#    fc1 = Dense(1024, activation='relu', name='fc1')(flatten)\n",
    "#    gap = GlobalAveragePooling2D()(conv8)\n",
    "    gmp = GlobalMaxPooling2D()(conv5_4)\n",
    "    drop = Dropout(0.5, name='drop_fc1')(gmp)\n",
    "    predictions = Dense(2, activation='softmax')(drop)\n",
    "\n",
    "    model = Model(inputs=input_tensor, outputs=predictions)\n",
    "    model.summary()\n",
    "\n",
    "    sgd = optimizers.SGD(lr=0.001, decay=1e-6, momentum=0.9, nesterov=True)\n",
    "\n",
    "parallel_model = multi_gpu_model(model, gpus=4)\n",
    "#parallel_model.compile(optimizer='Adadelta', \n",
    "#                       loss='categorical_crossentropy', \n",
    "#                       metrics=['accuracy'])\n",
    "parallel_model.compile(optimizer=sgd, loss='categorical_crossentropy', metrics=['accuracy'])\n",
    "parallel_model.summary()"
   ]
  },
  {
   "cell_type": "code",
   "execution_count": null,
   "metadata": {},
   "outputs": [
    {
     "name": "stdout",
     "output_type": "stream",
     "text": [
      "du (1991, 128, 128, 512)\n",
      "du (1991, 2)\n",
      "Train on 1592 samples, validate on 399 samples\n",
      "Epoch 1/100\n",
      "1592/1592 [==============================] - 261s 164ms/step - loss: 0.5493 - acc: 0.7563 - val_loss: 0.5050 - val_acc: 0.7744\n",
      "Epoch 2/100\n",
      "1592/1592 [==============================] - 245s 154ms/step - loss: 0.5126 - acc: 0.7563 - val_loss: 0.4751 - val_acc: 0.7744\n",
      "Epoch 3/100\n",
      "1592/1592 [==============================] - 245s 154ms/step - loss: 0.4957 - acc: 0.7563 - val_loss: 0.4657 - val_acc: 0.7744\n",
      "Epoch 4/100\n",
      "1592/1592 [==============================] - 246s 154ms/step - loss: 0.4690 - acc: 0.7563 - val_loss: 0.5274 - val_acc: 0.8446\n",
      "Epoch 5/100\n",
      "1592/1592 [==============================] - 247s 155ms/step - loss: 0.4889 - acc: 0.7619 - val_loss: 0.4390 - val_acc: 0.7744\n",
      "Epoch 6/100\n",
      "1592/1592 [==============================] - 247s 155ms/step - loss: 0.4466 - acc: 0.8065 - val_loss: 0.4691 - val_acc: 0.7870\n",
      "Epoch 7/100\n",
      "1592/1592 [==============================] - 247s 155ms/step - loss: 0.4403 - acc: 0.8034 - val_loss: 0.4116 - val_acc: 0.8697\n",
      "Epoch 8/100\n",
      "1592/1592 [==============================] - 246s 155ms/step - loss: 0.4092 - acc: 0.8367 - val_loss: 0.4116 - val_acc: 0.8546\n",
      "Epoch 9/100\n",
      "1592/1592 [==============================] - 247s 155ms/step - loss: 0.4005 - acc: 0.8398 - val_loss: 0.3637 - val_acc: 0.8847\n",
      "Epoch 10/100\n",
      "1592/1592 [==============================] - 249s 156ms/step - loss: 0.3774 - acc: 0.8480 - val_loss: 0.3688 - val_acc: 0.8546\n",
      "Epoch 11/100\n",
      "1592/1592 [==============================] - 249s 156ms/step - loss: 0.3726 - acc: 0.8411 - val_loss: 0.5530 - val_acc: 0.7744\n",
      "Epoch 12/100\n",
      "1592/1592 [==============================] - 246s 155ms/step - loss: 0.3694 - acc: 0.8448 - val_loss: 0.4641 - val_acc: 0.7769\n",
      "Epoch 13/100\n",
      "1592/1592 [==============================] - 246s 155ms/step - loss: 0.3649 - acc: 0.8455 - val_loss: 0.3210 - val_acc: 0.8772\n",
      "Epoch 14/100\n",
      "1592/1592 [==============================] - 246s 155ms/step - loss: 0.3699 - acc: 0.8354 - val_loss: 0.3399 - val_acc: 0.8822\n",
      "Epoch 15/100\n",
      "1592/1592 [==============================] - 248s 156ms/step - loss: 0.3509 - acc: 0.8555 - val_loss: 0.3752 - val_acc: 0.8546\n",
      "Epoch 16/100\n",
      "1592/1592 [==============================] - 246s 154ms/step - loss: 0.3470 - acc: 0.8536 - val_loss: 0.3162 - val_acc: 0.8922\n",
      "Epoch 17/100\n",
      "1592/1592 [==============================] - 247s 155ms/step - loss: 0.3344 - acc: 0.8574 - val_loss: 0.3222 - val_acc: 0.8797\n",
      "Epoch 18/100\n",
      "1592/1592 [==============================] - 248s 156ms/step - loss: 0.3352 - acc: 0.8562 - val_loss: 0.3446 - val_acc: 0.8747\n",
      "Epoch 19/100\n",
      "1592/1592 [==============================] - 248s 156ms/step - loss: 0.3191 - acc: 0.8624 - val_loss: 0.3349 - val_acc: 0.8772\n",
      "Epoch 20/100\n",
      "1592/1592 [==============================] - 247s 155ms/step - loss: 0.3233 - acc: 0.8543 - val_loss: 0.3266 - val_acc: 0.8772\n",
      "Epoch 21/100\n",
      "1592/1592 [==============================] - 249s 156ms/step - loss: 0.3293 - acc: 0.8555 - val_loss: 0.3073 - val_acc: 0.8747\n",
      "Epoch 22/100\n",
      "1592/1592 [==============================] - 245s 154ms/step - loss: 0.3079 - acc: 0.8693 - val_loss: 0.2785 - val_acc: 0.8872\n",
      "Epoch 23/100\n",
      "1592/1592 [==============================] - 247s 155ms/step - loss: 0.2889 - acc: 0.8763 - val_loss: 0.3887 - val_acc: 0.8095\n",
      "Epoch 24/100\n",
      "1504/1592 [===========================>..] - ETA: 12s - loss: 0.2943 - acc: 0.8617"
     ]
    }
   ],
   "source": [
    "print(\"du\", features.shape)\n",
    "print(\"du\", labels.shape)\n",
    "parallel_model.fit(x=features, y=labels, \n",
    "                   batch_size=16, epochs=100, verbose=1, validation_split=0.2)\n",
    "model.save_weights(\"diagnosis.h5\")"
   ]
  },
  {
   "cell_type": "code",
   "execution_count": null,
   "metadata": {
    "collapsed": true
   },
   "outputs": [],
   "source": []
  },
  {
   "cell_type": "code",
   "execution_count": null,
   "metadata": {
    "collapsed": true
   },
   "outputs": [],
   "source": []
  },
  {
   "cell_type": "code",
   "execution_count": null,
   "metadata": {
    "collapsed": true
   },
   "outputs": [],
   "source": []
  }
 ],
 "metadata": {
  "kernelspec": {
   "display_name": "Python 3",
   "language": "python",
   "name": "python3"
  },
  "language_info": {
   "codemirror_mode": {
    "name": "ipython",
    "version": 3
   },
   "file_extension": ".py",
   "mimetype": "text/x-python",
   "name": "python",
   "nbconvert_exporter": "python",
   "pygments_lexer": "ipython3",
   "version": "3.5.4"
  }
 },
 "nbformat": 4,
 "nbformat_minor": 2
}
